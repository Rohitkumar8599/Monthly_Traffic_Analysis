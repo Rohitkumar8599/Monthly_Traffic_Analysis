{
 "cells": [
  {
   "cell_type": "markdown",
   "metadata": {
    "colab": {
     "base_uri": "https://localhost:8080/",
     "height": 38,
     "resources": {
      "http://localhost:8080/nbextensions/google.colab/files.js": {
       "data": "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",
       "headers": [
        [
         "content-type",
         "application/javascript"
        ]
       ],
       "ok": true,
       "status": 200,
       "status_text": ""
      }
     }
    },
    "id": "MVbMe_tCOim4",
    "outputId": "b0ec9d6b-b5fb-41f6-e995-b20bbd38604d"
   },
   "source": [
    "# Question 1: "
   ]
  },
  {
   "cell_type": "markdown",
   "metadata": {},
   "source": [
    "Note: The index of site 1 is start with zero index of the traffic_data which is in row.\n",
    "      The index of month 1 is start with zero index of the traffic_data which is in column."
   ]
  },
  {
   "cell_type": "markdown",
   "metadata": {},
   "source": [
    "Question 1(a) Read the dataset using numpy package"
   ]
  },
  {
   "cell_type": "code",
   "execution_count": 1,
   "metadata": {
    "colab": {
     "base_uri": "https://localhost:8080/",
     "height": 171
    },
    "id": "P_eGOg-kP3ml",
    "outputId": "32f65ef1-97f7-48e7-8c58-8b167a8493de"
   },
   "outputs": [],
   "source": [
    "import numpy as np\n",
    "traffic_data = np.loadtxt('ques1_data.txt', delimiter=',') \n",
    "#here we load the text file whose name ques1_data"
   ]
  },
  {
   "cell_type": "code",
   "execution_count": 2,
   "metadata": {
    "colab": {
     "base_uri": "https://localhost:8080/",
     "height": 171
    },
    "id": "i_EDpsPqR-I1",
    "outputId": "4947c054-e171-4cb0-ef67-f3b64935a3d2",
    "scrolled": true
   },
   "outputs": [
    {
     "name": "stdout",
     "output_type": "stream",
     "text": [
      "[[ 550.  764.  803.  525.  964.  611.  506.  752.  577.  967.  682.  788.]\n",
      " [ 864.  521.  983.  512.  556.  716.  856.  711.  889.  954.  831.  998.]\n",
      " [ 832.  902.  569.  728.  551.  543.  580.  881.  805.  804.  872.  574.]\n",
      " [ 829.  797.  547.  845.  772.  822.  586.  753.  871.  976.  833.  708.]\n",
      " [ 975.  809.  707.  919.  533.  681.  711.  538.  541.  739.  722.  766.]\n",
      " [ 847.  641.  874.  719.  598.  954.  573.  726.  970.  583.  552.  680.]\n",
      " [ 965.  581.  633.  616.  734.  903.  535.  783.  868.  845.  591.  854.]\n",
      " [ 745.  547.  889.  885.  747.  581.  823.  612.  582.  878.  590.  968.]\n",
      " [ 718.  670.  590.  587.  698.  881.  666.  856.  654.  795.  823.  908.]\n",
      " [ 900.  609.  990.  997.  509.  565.  834.  882.  615.  901.  754.  629.]\n",
      " [ 627.  669.  972.  969.  821.  510.  589.  997.  763.  743.  975.  760.]\n",
      " [ 973.  982.  690.  534.  500.  507.  760.  710.  898.  804.  901.  752.]\n",
      " [ 524.  882.  990.  749.  642.  536.  867.  951.  587.  987.  971.  613.]\n",
      " [ 937.  871.  819.  704.  628.  683.  716.  868.  915.  947.  609.  523.]\n",
      " [ 797.  697.  525.  999.  755.  505.  693.  670.  781.  555.  820.  847.]\n",
      " [ 654.  788.  823.  703.  843.  870.  832.  669.  772.  519.  839.  674.]\n",
      " [ 578.  835.  665.  569.  757.  601.  930.  843.  535.  551.  519.  685.]\n",
      " [ 701.  780.  720.  654.  799.  731.  829.  857.  976.  914.  971.  982.]\n",
      " [ 783.  663.  860.  565.  546.  786.  883.  815.  593.  937.  915.  695.]\n",
      " [ 777.  550.  626.  757.  985.  684.  866.  923.  689.  908.  824.  782.]\n",
      " [ 722.  620.  771.  538.  818.  840.  501.  644.  675.  980.  956.  917.]\n",
      " [ 714.  712.  643.  759.  884.  730.  928.  940.  736.  955.  739.  926.]\n",
      " [ 514.  972.  558.  951.  587.  517.  672.  572.  556.  875.  848.  523.]\n",
      " [ 627.  705.  797.  546.  905.  745.  792.  535.  662.  983.  885.  658.]\n",
      " [ 652.  551.  883.  621.  500.  503.  964.  532.  746.  848.  562.  501.]\n",
      " [ 819.  657.  803.  980.  919.  752.  524.  624.  501.  991.  604.  610.]\n",
      " [ 528.  923.  760.  762.  984.  938.  531.  988.  798.  987.  567.  780.]\n",
      " [ 530.  883.  931.  852.  843.  839.  726.  945.  960.  799.  654.  991.]\n",
      " [ 817.  737.  551.  644.  533.  806.  794.  508.  700.  543.  808.  869.]\n",
      " [ 679.  889.  780.  815.  528.  503.  814.  680.  776.  763.  704.  793.]\n",
      " [ 581.  662.  600.  981.  909.  735.  920.  886.  532.  914.  974.  955.]\n",
      " [ 895.  543.  951.  970.  557.  888.  978.  644.  552.  694.  790.  807.]\n",
      " [ 652. 1000.  553.  713.  541.  786.  548.  504.  911.  693.  866.  766.]\n",
      " [ 883.  651.  733.  915.  867.  708.  918.  994.  633.  979.  939.  888.]\n",
      " [ 960.  852.  545.  678.  890.  803.  981.  968.  792.  730.  801.  794.]\n",
      " [ 697.  940.  530.  840.  879.  796.  632.  930.  809.  862.  681.  612.]\n",
      " [ 606.  969.  560.  542.  755.  509.  616.  620.  555.  573.  829.  625.]\n",
      " [ 742.  703.  917.  685.  999.  761.  645.  825.  698.  689.  534.  620.]\n",
      " [ 539.  612.  800.  653.  971.  866.  669.  999.  770.  739.  668.  997.]\n",
      " [ 601.  503.  640.  985.  548.  741.  987.  643.  577.  825.  779.  750.]\n",
      " [ 585.  831.  750.  633.  934.  855.  951.  511.  792.  867.  521.  643.]\n",
      " [ 890.  848.  584.  857.  947.  599.  661.  831.  993.  613.  529.  742.]\n",
      " [ 999.  884.  963.  612.  630.  775.  666.  892.  678.  915.  937.  663.]\n",
      " [ 821.  968.  836.  503.  546.  729.  627.  708.  899.  864.  716.  677.]\n",
      " [ 793.  502.  520.  939.  562.  707.  658.  568.  980.  798.  774.  660.]\n",
      " [ 734.  691.  938.  713.  932.  929.  934.  884.  888.  603.  762.  768.]\n",
      " [ 955.  561.  604.  889.  894.  844.  515.  522.  914.  990.  732.  596.]\n",
      " [ 751.  771.  924.  768.  875.  593.  635.  526.  854.  816.  824.  822.]\n",
      " [ 679.  755.  565.  545.  877.  930.  851.  606.  826.  903.  987.  918.]\n",
      " [ 681.  900.  699.  734.  589.  863.  636.  992.  768.  546.  608.  655.]]\n"
     ]
    }
   ],
   "source": [
    "print(traffic_data) # here we print the traffic data"
   ]
  },
  {
   "cell_type": "markdown",
   "metadata": {},
   "source": [
    "Question 1(b) find out the number of sites for each traffic volume data is present"
   ]
  },
  {
   "cell_type": "code",
   "execution_count": 3,
   "metadata": {
    "colab": {
     "base_uri": "https://localhost:8080/"
    },
    "id": "gqnY1D6uSfNZ",
    "outputId": "ce0e7640-40a9-4f32-ece5-a4937bfdb126"
   },
   "outputs": [
    {
     "name": "stdout",
     "output_type": "stream",
     "text": [
      "50\n"
     ]
    }
   ],
   "source": [
    "number_of_site= traffic_data.shape[0] \n",
    "# here we find the number of rows in the file which is equal to number of site\n",
    "print(number_of_site)"
   ]
  },
  {
   "cell_type": "markdown",
   "metadata": {},
   "source": [
    "Question 1(c) Find out the monthly average traffic (MAT) volume for each site (Hint: add traffic volume of 12 months for each                 site and divide by 12). Store it as an array and show the output of MAT for the first 5 sites (Site 1, Site 2, …,               Site 5)\n"
   ]
  },
  {
   "cell_type": "code",
   "execution_count": 4,
   "metadata": {
    "colab": {
     "base_uri": "https://localhost:8080/",
     "height": 208
    },
    "id": "vdLjiKi8Zdft",
    "outputId": "146d1c3a-6f6b-4054-8fc9-9dd03284e559"
   },
   "outputs": [
    {
     "name": "stdout",
     "output_type": "stream",
     "text": [
      "[707.41666667 782.58333333 720.08333333 778.25       720.08333333]\n"
     ]
    }
   ],
   "source": [
    "sum_of_row_traffic_data= traffic_data.sum(axis=1) \n",
    "# this prints the row wise sum of the data\n",
    "avg_traffic_data_site=traffic_data.sum(axis=1)/12\n",
    "print(avg_traffic_data_site[:5]) # print average traffic data of first five site"
   ]
  },
  {
   "cell_type": "code",
   "execution_count": 5,
   "metadata": {
    "colab": {
     "base_uri": "https://localhost:8080/"
    },
    "id": "QQ4MXjmPWl7r",
    "outputId": "6dd3e1e2-f310-4137-b4fb-b491568e8f38"
   },
   "outputs": [
    {
     "name": "stdout",
     "output_type": "stream",
     "text": [
      "[3101.83333333 3112.75       3080.33333333 3096.58333333 3095.08333333]\n"
     ]
    }
   ],
   "source": [
    "# show the output of MAT for the first five month\n",
    "sum_of_traffic_data_each_month= traffic_data.sum(axis=0) \n",
    "# this prints the column wise sum of the data\n",
    "mat = sum_of_traffic_data_each_month/12 # mat= monthly average traffic data \n",
    "print(mat[:5]) # here we print the first five mat data of month"
   ]
  },
  {
   "cell_type": "markdown",
   "metadata": {},
   "source": [
    "Question 1(d) Which site has maximum total yearly volume and which site has minimum yearly volume?"
   ]
  },
  {
   "cell_type": "code",
   "execution_count": 6,
   "metadata": {
    "colab": {
     "base_uri": "https://localhost:8080/"
    },
    "id": "1DL71bsubII7",
    "outputId": "e0fc3bac-9e94-4ef6-9838-fdb76cc879c4"
   },
   "outputs": [
    {
     "name": "stdout",
     "output_type": "stream",
     "text": [
      "33\n",
      "36\n"
     ]
    }
   ],
   "source": [
    "index_max_traffic_data= np.argmax(sum_of_row_traffic_data) \n",
    "# find the index of max traffic data which is site\n",
    "print(index_max_traffic_data) # print index of max traffic data \n",
    "index_min_traffic_data= np.argmin(sum_of_row_traffic_data) \n",
    "# find the index if min traffic data which is site\n",
    "print(index_min_traffic_data)# print index of min traffic data\n"
   ]
  },
  {
   "cell_type": "markdown",
   "metadata": {},
   "source": [
    "Question 1(e) What is the maximum and minimum yearly volume?"
   ]
  },
  {
   "cell_type": "code",
   "execution_count": 16,
   "metadata": {},
   "outputs": [
    {
     "name": "stdout",
     "output_type": "stream",
     "text": [
      "10108.0\n",
      "7759.0\n"
     ]
    }
   ],
   "source": [
    "print(sum_of_row_traffic_data.max()) \n",
    "#to find the max traffic data\n",
    "print(sum_of_row_traffic_data.min())\n",
    "# to find the min traffic data"
   ]
  },
  {
   "cell_type": "markdown",
   "metadata": {},
   "source": [
    "Question 1(f) Which month experienced maximum traffic volume across all sites and which month experienced minimum traffic volume across all sites?"
   ]
  },
  {
   "cell_type": "code",
   "execution_count": 8,
   "metadata": {
    "colab": {
     "base_uri": "https://localhost:8080/"
    },
    "id": "_42Vvy_aqrqV",
    "outputId": "e44a936c-63c3-48de-a186-774aadbdf5c4"
   },
   "outputs": [
    {
     "name": "stdout",
     "output_type": "stream",
     "text": [
      "9\n",
      "5\n"
     ]
    }
   ],
   "source": [
    "\n",
    "index_max_traffic_month= np.argmax(sum_of_traffic_data_each_month) \n",
    "# to find which month has max traffic\n",
    "print(index_max_traffic_month)\n",
    "\n",
    "index_min_traffic_month= np.argmin(sum_of_traffic_data_each_month) \n",
    "# to find which month has min traffic\n",
    "print(index_min_traffic_month)\n"
   ]
  },
  {
   "cell_type": "markdown",
   "metadata": {},
   "source": [
    "Question 1(g) Which sites has total yearly volume > 9700 vehicles?"
   ]
  },
  {
   "cell_type": "code",
   "execution_count": 9,
   "metadata": {
    "colab": {
     "base_uri": "https://localhost:8080/",
     "height": 226
    },
    "id": "B-OmOIdOpIKQ",
    "outputId": "bef61613-86b2-4b9b-df45-6bcaa2192fc1"
   },
   "outputs": [
    {
     "name": "stdout",
     "output_type": "stream",
     "text": [
      "(array([17, 27, 33, 34, 45], dtype=int64),)\n"
     ]
    }
   ],
   "source": [
    "required_cond1=(sum_of_row_traffic_data>9700)\n",
    "total_site=np.where(required_cond1) \n",
    "# to find no. of site where traffic volume greater than 9700\n",
    "print(total_site)"
   ]
  },
  {
   "cell_type": "markdown",
   "metadata": {},
   "source": [
    "Question 1(h) Determine the months where the total monthly volume for the entire city (sum of monthly volume for all sites) is               greater than 38,000 vehicles.\n"
   ]
  },
  {
   "cell_type": "code",
   "execution_count": 10,
   "metadata": {
    "id": "WnSZd6HYowx8"
   },
   "outputs": [
    {
     "name": "stdout",
     "output_type": "stream",
     "text": [
      "(array([ 9, 10], dtype=int64),)\n"
     ]
    }
   ],
   "source": [
    "required_cond2=(sum_of_traffic_data_each_month>38000)\n",
    "total_month=np.where(required_cond2) \n",
    "# to find month where traffic volume greater than 38000\n",
    "print(total_month)"
   ]
  },
  {
   "cell_type": "markdown",
   "metadata": {},
   "source": [
    "# Question 2: "
   ]
  },
  {
   "cell_type": "markdown",
   "metadata": {},
   "source": [
    "Question 2(a) Store this tweet as a single string in python."
   ]
  },
  {
   "cell_type": "code",
   "execution_count": 19,
   "metadata": {},
   "outputs": [
    {
     "name": "stdout",
     "output_type": "stream",
     "text": [
      "Neeraj Chopra brings home the much awaited Gold First place \n",
      "medal for Flag of India in his debut Olympic Games. The gigantic effort\n",
      "made sure India has best ever medal haul in the olympics. Congratulations\n",
      "champ Neeraj Chopra, the whole nation is proud of you\n"
     ]
    }
   ],
   "source": [
    "x_tweet='''Neeraj Chopra brings home the much awaited Gold First place \n",
    "medal for Flag of India in his debut Olympic Games. The gigantic effort\n",
    "made sure India has best ever medal haul in the olympics. Congratulations\n",
    "champ Neeraj Chopra , the whole nation is proud of you''' \n",
    "# to store it in single string\n",
    "print(x_tweet)"
   ]
  },
  {
   "cell_type": "markdown",
   "metadata": {},
   "source": [
    "Question 2(b) Split the string into a list with each element of the list being each word of the tweet. Output the list"
   ]
  },
  {
   "cell_type": "code",
   "execution_count": 20,
   "metadata": {},
   "outputs": [
    {
     "name": "stdout",
     "output_type": "stream",
     "text": [
      "['Neeraj', 'Chopra', 'brings', 'home', 'the', 'much', 'awaited', 'Gold', 'First', 'place', 'medal', 'for', 'Flag', 'of', 'India', 'in', 'his', 'debut', 'Olympic', 'Games.', 'The', 'gigantic', 'effort', 'made', 'sure', 'India', 'has', 'best', 'ever', 'medal', 'haul', 'in', 'the', 'olympics.', 'Congratulations', 'champ', 'Neeraj', 'Chopra,', 'the', 'whole', 'nation', 'is', 'proud', 'of', 'you']\n"
     ]
    }
   ],
   "source": [
    "split_words = x_tweet.split() # split() function is used to split the words.\n",
    "print(split_words)"
   ]
  },
  {
   "cell_type": "markdown",
   "metadata": {},
   "source": [
    "Question 2(c) How many words are present in the tweet?"
   ]
  },
  {
   "cell_type": "code",
   "execution_count": 13,
   "metadata": {},
   "outputs": [
    {
     "name": "stdout",
     "output_type": "stream",
     "text": [
      "45\n"
     ]
    }
   ],
   "source": [
    "total_number_of_element = len(split_words) \n",
    "# this function counts the number of words\n",
    "print(total_number_of_element)"
   ]
  },
  {
   "cell_type": "markdown",
   "metadata": {},
   "source": [
    "Question 2(d) How many unique words are present in the tweet?"
   ]
  },
  {
   "cell_type": "code",
   "execution_count": 14,
   "metadata": {},
   "outputs": [
    {
     "name": "stdout",
     "output_type": "stream",
     "text": [
      "{'haul', 'Flag', 'brings', 'proud', 'you', 'has', 'Games.', 'Olympic', 'olympics.', 'Chopra', 'First', 'India', 'effort', 'awaited', 'of', 'ever', 'Neeraj', 'much', 'medal', 'in', 'home', 'nation', 'The', 'the', 'place', 'for', 'whole', 'debut', 'best', 'is', 'gigantic', 'champ', 'Chopra,', 'made', 'sure', 'his', 'Gold', 'Congratulations'}\n"
     ]
    }
   ],
   "source": [
    "set_element= set(split_words)# this function converts the list into set\n",
    "print(set_element)"
   ]
  },
  {
   "cell_type": "code",
   "execution_count": 15,
   "metadata": {},
   "outputs": [
    {
     "name": "stdout",
     "output_type": "stream",
     "text": [
      "38\n"
     ]
    }
   ],
   "source": [
    "total_number_unique_element=len(set_element)\n",
    "# this function is used to find no. of element in the set which are unque elements\n",
    "print(total_number_unique_element)"
   ]
  }
 ],
 "metadata": {
  "colab": {
   "collapsed_sections": [],
   "name": "Untitled0.ipynb",
   "provenance": []
  },
  "kernelspec": {
   "display_name": "Python 3 (ipykernel)",
   "language": "python",
   "name": "python3"
  },
  "language_info": {
   "codemirror_mode": {
    "name": "ipython",
    "version": 3
   },
   "file_extension": ".py",
   "mimetype": "text/x-python",
   "name": "python",
   "nbconvert_exporter": "python",
   "pygments_lexer": "ipython3",
   "version": "3.9.12"
  }
 },
 "nbformat": 4,
 "nbformat_minor": 1
}
